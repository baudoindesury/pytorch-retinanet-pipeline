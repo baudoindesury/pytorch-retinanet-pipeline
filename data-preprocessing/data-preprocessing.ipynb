{
 "cells": [
  {
   "cell_type": "code",
   "execution_count": 33,
   "metadata": {},
   "outputs": [
    {
     "name": "stdout",
     "output_type": "stream",
     "text": [
      "123\n"
     ]
    },
    {
     "name": "stderr",
     "output_type": "stream",
     "text": [
      "100%|██████████| 123/123 [00:01<00:00, 75.64it/s]"
     ]
    },
    {
     "name": "stdout",
     "output_type": "stream",
     "text": [
      "New annotations saved at :/home/baudoin/new_uav123.csv\n"
     ]
    },
    {
     "name": "stderr",
     "output_type": "stream",
     "text": [
      "\n"
     ]
    }
   ],
   "source": [
    "# for line in file :\n",
    "#   get video_path\n",
    "#   get label\n",
    "#   for img in video_path:\n",
    "#       get img path\n",
    "#       get bbox\n",
    "#       save img_path, bbox, label\n",
    "\n",
    "\n",
    "import argparse\n",
    "import os\n",
    "import os.path as osp\n",
    "from collections import defaultdict\n",
    "import re\n",
    "\n",
    "\n",
    "import mmcv\n",
    "from tqdm import tqdm\n",
    "\n",
    "def parse_args():\n",
    "    parser = argparse.ArgumentParser(\n",
    "        description='UAV123 dataset to retinanet Video format')\n",
    "    parser.add_argument(\n",
    "        '-i',\n",
    "        '--input',\n",
    "        help='root directory of UAV123 dataset',\n",
    "    )\n",
    "    parser.add_argument(\n",
    "        '-o',\n",
    "        '--output',\n",
    "        help='directory to save retinanet formatted label file',\n",
    "    )\n",
    "    return parser.parse_args()\n",
    "\n",
    "def convert_uav123(uav123, ann_dir, save_dir):\n",
    "    \"\"\"Convert trackingnet dataset to COCO style.\n",
    "    Args:\n",
    "        uav123 (dict): The converted retinanet style annotations.\n",
    "        ann_dir (str): The path of trackingnet test dataset\n",
    "        save_dir (str): The path to save `uav123`.\n",
    "    \"\"\"\n",
    "    # The format of each line in \"uav_info123.txt\" is\n",
    "    # \"anno_name,anno_path,video_path,start_frame,end_frame\"\n",
    "    info_path = osp.join(os.path.abspath(''), 'UAV123/uav123_info.txt')\n",
    "    uav_info = mmcv.list_from_file(info_path)[1:]\n",
    "\n",
    "    records = dict(vid_id=1, img_id=1, ann_id=1, global_instance_id=1)\n",
    "\n",
    "    # Define labels _file.of UAV123 dataset\n",
    "    labels = {'bike':1, 'bird':2, 'boat':3, 'building':4, 'car':5 , 'group':6, 'person':7, 'truck':8, 'uav':9, 'wakeboard':10}\n",
    "    labels_cond = ''\n",
    "    for label in list(labels.keys()):\n",
    "        labels_cond += label + '|' \n",
    "    labels_cond = labels_cond[:-1]\n",
    "\n",
    "    print(len(uav_info))\n",
    "\n",
    "    with open(save_dir, 'w') as csv_file:\n",
    "        for info in tqdm(uav_info):\n",
    "            anno_name, anno_path, video_path, start_frame, end_frame = info.split(\n",
    "                ',')\n",
    "            start_frame = int(start_frame)\n",
    "            end_frame = int(end_frame)\n",
    "            # video_name is not the same as anno_name since one video may have\n",
    "            # several fragments.\n",
    "            # Example: video_name: \"bird\"   anno_name: \"bird_1\"\n",
    "            video_name = video_path.split('/')[-1]\n",
    "            video = dict(id=records['vid_id'], name=video_name)\n",
    "            uav123['videos'].append(video)\n",
    "\n",
    "            gt_bboxes = mmcv.list_from_file(osp.join(ann_dir, anno_path))\n",
    "            assert len(gt_bboxes) == end_frame - start_frame + 1\n",
    "\n",
    "            img = mmcv.imread(\n",
    "                osp.join(ann_dir, video_path, '%06d.jpg' % (start_frame)))\n",
    "            \n",
    "            for frame_id, src_frame_id in enumerate(\n",
    "                    range(start_frame, end_frame + 1)):\n",
    "                file_name = osp.join(video_name, '%06d.jpg' % (src_frame_id))\n",
    "\n",
    "                if 'NaN' in gt_bboxes[frame_id]:\n",
    "                    x1 = y1 = x2 = y2 = 0\n",
    "                    label = ''\n",
    "                else:\n",
    "                    x1, y1, w, h = gt_bboxes[frame_id].split(',')\n",
    "                    x2 = int(x1) + int(w)\n",
    "                    y2 = int(y1) + int(h)\n",
    "                    label = re.findall(labels_cond, video_name)[0]\n",
    "                \n",
    "                csv_file.write(file_name + ',' + ','.join([str(x1),str(y1),str(x2), str(y2)]) + ',' + label + '\\n')\n",
    "\n",
    "                break\n",
    "\n",
    "\n",
    "    print('New annotations saved at :' + save_dir)    \n",
    "\n",
    "def main():\n",
    "    #args = parse_args()\n",
    "    uav123 = defaultdict(list)\n",
    "    #convert_uav123(uav123, args.input, args.output)\n",
    "    input = '/media/baudoin/SSDUbuntu/data/UAV123'\n",
    "    output = '/home/baudoin/new_uav123.csv'\n",
    "    convert_uav123(uav123, input, output)\n",
    "\n",
    "main()"
   ]
  },
  {
   "cell_type": "code",
   "execution_count": null,
   "metadata": {},
   "outputs": [],
   "source": [
    "import json\n",
    "import re\n",
    "\n",
    "# data paths of coco styled json annotations file\n",
    "data_path = '/media/baudoin/SSDUbuntu/data/UAV123'\n",
    "coco_annotations_path = '/annotations/uav123.json'\n",
    "\n",
    "# open json\n",
    "anno_file = open(data_path + coco_annotations_path, \"r\")\n",
    "anno_json = json.load(anno_file)\n",
    "anno_file.close()\n",
    "\n",
    "# Define labels _file.of UAV123 dataset\n",
    "labels = {'bike':1, 'bird':2, 'boat':3, 'building':4, 'car':5 , 'group':6, 'person':7, 'truck':8, 'uav':9, 'wakeboard':10}\n",
    "labels_cond = ''\n",
    "for label in list(labels.keys()):\n",
    "    labels_cond += label + '|' \n",
    "labels_cond = labels_cond[:-1]\n",
    "\n",
    "# Extract info of json file and write in a csv file\n",
    "with open(data_path + '/annotations/retina_anno.csv', 'a') as csv_file:\n",
    "    for anno, img in zip(anno_json['annotations'],anno_json['images']):\n",
    "        \n",
    "        if (anno['bbox'][0] == 0) and (anno['bbox'][1]==0):\n",
    "            new_coordinates = ['']*4\n",
    "            label = ''\n",
    "        else:\n",
    "            new_coordinates = [x + y for (x, y) in zip(anno['bbox'] , [0,0, anno['bbox'][0], anno['bbox'][1]])]\n",
    "            label = re.findall(labels_cond, img['file_name'])[0]\n",
    "        img_path = data_path + '/data_seq/UAV123/' + img['file_name']\n",
    "        csv_file.write(img_path + ',' + ','.join([str(i) for i in new_coordinates]) + ',' + label + '\\n')\n",
    "\n",
    "# Labels file\n",
    "with open(data_path + '/annotations/class_labels.csv', 'a') as csv_file:\n",
    "    for name, id in zip(labels.keys(), labels.values()):\n",
    "        csv_file.write(name + ',' + str(id) + '\\n')\n",
    "    \n"
   ]
<<<<<<< HEAD
  },
  {
   "cell_type": "code",
   "execution_count": null,
   "metadata": {},
   "outputs": [],
   "source": [
    "import pandas as pd\n",
    "\n",
    "df = pd.read_csv('../new_annotations.txt')"
   ]
  },
  {
   "cell_type": "code",
   "execution_count": null,
   "metadata": {},
   "outputs": [],
   "source": []
=======
>>>>>>> e0cd17aba03d779e636a21f917eec70c222d9ccd
  }
 ],
 "metadata": {
  "interpreter": {
   "hash": "b7e5364b63908b08e10f2a517414ade88e418be15676f39f73c8720640639a67"
  },
  "kernelspec": {
   "display_name": "Python 3.6.13 64-bit ('pytorch-retinanet': conda)",
   "name": "python3"
  },
  "language_info": {
   "codemirror_mode": {
    "name": "ipython",
    "version": 3
   },
   "file_extension": ".py",
   "mimetype": "text/x-python",
   "name": "python",
   "nbconvert_exporter": "python",
   "pygments_lexer": "ipython3",
   "version": "3.6.13"
  },
  "orig_nbformat": 4
 },
 "nbformat": 4,
 "nbformat_minor": 2
}
