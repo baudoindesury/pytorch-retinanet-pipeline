{
 "cells": [
  {
   "cell_type": "code",
   "execution_count": 1,
   "metadata": {},
   "outputs": [],
   "source": [
    "import pandas as pd"
   ]
  },
  {
   "cell_type": "code",
   "execution_count": 2,
   "metadata": {},
   "outputs": [],
   "source": [
    "mapping_uav_visdrone = {'bike':'bicycle', \n",
    "                        'bird':'',\n",
    "                        'boat':'',\n",
    "                        'building':'',\n",
    "                        'car':'car',\n",
    "                        'group':'pedestrian',\n",
    "                        'person':'pedestrian',\n",
    "                        'truck':'truck',\n",
    "                        'uav': '',\n",
    "                        'wakeboard':''}"
   ]
  },
  {
   "cell_type": "code",
   "execution_count": 3,
   "metadata": {},
   "outputs": [],
   "source": [
    "uav123_anno_path = '/home/baudoin/pytorch-retinanet-pipeline/uav123_anno/training_annotations.csv'\n",
    "saving_path = '/home/baudoin/pytorch-retinanet-pipeline/cross_evaluation_anno/uav4visdrone_training_anno.csv'\n",
    "df = pd.read_csv(uav123_anno_path, names=['path','1','2','3','4','label'])\n",
    "df[['1','2','3','4']] = df[['1','2','3','4']].fillna(-1).astype(int)\n",
    "df = df.replace({'label':mapping_uav_visdrone}).copy()\n",
    "df.loc[df['label'] == '', ['1','2','3','4']] = ''\n",
    "df = df.replace(-1, '')\n",
    "df.to_csv(saving_path, index = False, header = False, float_format='%.0f')\n"
   ]
  },
  {
   "cell_type": "code",
   "execution_count": 84,
   "metadata": {},
   "outputs": [
    {
     "data": {
      "text/plain": [
       "path     object\n",
       "1        object\n",
       "2        object\n",
       "3        object\n",
       "4        object\n",
       "label    object\n",
       "dtype: object"
      ]
     },
     "execution_count": 84,
     "metadata": {},
     "output_type": "execute_result"
    }
   ],
   "source": [
    "df.dtypes"
   ]
  },
  {
   "cell_type": "code",
   "execution_count": 14,
   "metadata": {},
   "outputs": [
    {
     "data": {
      "text/plain": [
       "pedestrian    468\n",
       "car           273\n",
       "bicycle        37\n",
       "truck          21\n",
       "Name: 5, dtype: int64"
      ]
     },
     "execution_count": 14,
     "metadata": {},
     "output_type": "execute_result"
    }
   ],
   "source": [
    "df = pd.read_csv(saving_path, header=None)\n",
    "df[5].value_counts()"
   ]
  },
  {
   "cell_type": "code",
   "execution_count": 5,
   "metadata": {},
   "outputs": [
    {
     "data": {
      "text/html": [
       "<div>\n",
       "<style scoped>\n",
       "    .dataframe tbody tr th:only-of-type {\n",
       "        vertical-align: middle;\n",
       "    }\n",
       "\n",
       "    .dataframe tbody tr th {\n",
       "        vertical-align: top;\n",
       "    }\n",
       "\n",
       "    .dataframe thead th {\n",
       "        text-align: right;\n",
       "    }\n",
       "</style>\n",
       "<table border=\"1\" class=\"dataframe\">\n",
       "  <thead>\n",
       "    <tr style=\"text-align: right;\">\n",
       "      <th></th>\n",
       "      <th>/home/baudoin/data/UAV123/data_seq/UAV123/bike1/000001.jpg</th>\n",
       "      <th>703</th>\n",
       "      <th>361</th>\n",
       "      <th>760</th>\n",
       "      <th>475</th>\n",
       "      <th>bicycle</th>\n",
       "    </tr>\n",
       "  </thead>\n",
       "  <tbody>\n",
       "    <tr>\n",
       "      <th>0</th>\n",
       "      <td>/home/baudoin/data/UAV123/data_seq/UAV123/bike...</td>\n",
       "      <td>704.0</td>\n",
       "      <td>311.0</td>\n",
       "      <td>864.0</td>\n",
       "      <td>450.0</td>\n",
       "      <td>bicycle</td>\n",
       "    </tr>\n",
       "    <tr>\n",
       "      <th>1</th>\n",
       "      <td>/home/baudoin/data/UAV123/data_seq/UAV123/bike...</td>\n",
       "      <td>384.0</td>\n",
       "      <td>256.0</td>\n",
       "      <td>441.0</td>\n",
       "      <td>368.0</td>\n",
       "      <td>bicycle</td>\n",
       "    </tr>\n",
       "    <tr>\n",
       "      <th>2</th>\n",
       "      <td>/home/baudoin/data/UAV123/data_seq/UAV123/bike...</td>\n",
       "      <td>586.0</td>\n",
       "      <td>224.0</td>\n",
       "      <td>623.0</td>\n",
       "      <td>310.0</td>\n",
       "      <td>bicycle</td>\n",
       "    </tr>\n",
       "    <tr>\n",
       "      <th>3</th>\n",
       "      <td>/home/baudoin/data/UAV123/data_seq/UAV123/bike...</td>\n",
       "      <td>763.0</td>\n",
       "      <td>174.0</td>\n",
       "      <td>793.0</td>\n",
       "      <td>255.0</td>\n",
       "      <td>bicycle</td>\n",
       "    </tr>\n",
       "    <tr>\n",
       "      <th>4</th>\n",
       "      <td>/home/baudoin/data/UAV123/data_seq/UAV123/bike...</td>\n",
       "      <td>494.0</td>\n",
       "      <td>238.0</td>\n",
       "      <td>530.0</td>\n",
       "      <td>329.0</td>\n",
       "      <td>bicycle</td>\n",
       "    </tr>\n",
       "    <tr>\n",
       "      <th>...</th>\n",
       "      <td>...</td>\n",
       "      <td>...</td>\n",
       "      <td>...</td>\n",
       "      <td>...</td>\n",
       "      <td>...</td>\n",
       "      <td>...</td>\n",
       "    </tr>\n",
       "    <tr>\n",
       "      <th>1035</th>\n",
       "      <td>/home/baudoin/data/UAV123/data_seq/UAV123/wake...</td>\n",
       "      <td>NaN</td>\n",
       "      <td>NaN</td>\n",
       "      <td>NaN</td>\n",
       "      <td>NaN</td>\n",
       "      <td>NaN</td>\n",
       "    </tr>\n",
       "    <tr>\n",
       "      <th>1036</th>\n",
       "      <td>/home/baudoin/data/UAV123/data_seq/UAV123/wake...</td>\n",
       "      <td>NaN</td>\n",
       "      <td>NaN</td>\n",
       "      <td>NaN</td>\n",
       "      <td>NaN</td>\n",
       "      <td>NaN</td>\n",
       "    </tr>\n",
       "    <tr>\n",
       "      <th>1037</th>\n",
       "      <td>/home/baudoin/data/UAV123/data_seq/UAV123/wake...</td>\n",
       "      <td>NaN</td>\n",
       "      <td>NaN</td>\n",
       "      <td>NaN</td>\n",
       "      <td>NaN</td>\n",
       "      <td>NaN</td>\n",
       "    </tr>\n",
       "    <tr>\n",
       "      <th>1038</th>\n",
       "      <td>/home/baudoin/data/UAV123/data_seq/UAV123/wake...</td>\n",
       "      <td>NaN</td>\n",
       "      <td>NaN</td>\n",
       "      <td>NaN</td>\n",
       "      <td>NaN</td>\n",
       "      <td>NaN</td>\n",
       "    </tr>\n",
       "    <tr>\n",
       "      <th>1039</th>\n",
       "      <td>/home/baudoin/data/UAV123/data_seq/UAV123/wake...</td>\n",
       "      <td>NaN</td>\n",
       "      <td>NaN</td>\n",
       "      <td>NaN</td>\n",
       "      <td>NaN</td>\n",
       "      <td>NaN</td>\n",
       "    </tr>\n",
       "  </tbody>\n",
       "</table>\n",
       "<p>1040 rows × 6 columns</p>\n",
       "</div>"
      ],
      "text/plain": [
       "     /home/baudoin/data/UAV123/data_seq/UAV123/bike1/000001.jpg    703    361  \\\n",
       "0     /home/baudoin/data/UAV123/data_seq/UAV123/bike...          704.0  311.0   \n",
       "1     /home/baudoin/data/UAV123/data_seq/UAV123/bike...          384.0  256.0   \n",
       "2     /home/baudoin/data/UAV123/data_seq/UAV123/bike...          586.0  224.0   \n",
       "3     /home/baudoin/data/UAV123/data_seq/UAV123/bike...          763.0  174.0   \n",
       "4     /home/baudoin/data/UAV123/data_seq/UAV123/bike...          494.0  238.0   \n",
       "...                                                 ...            ...    ...   \n",
       "1035  /home/baudoin/data/UAV123/data_seq/UAV123/wake...            NaN    NaN   \n",
       "1036  /home/baudoin/data/UAV123/data_seq/UAV123/wake...            NaN    NaN   \n",
       "1037  /home/baudoin/data/UAV123/data_seq/UAV123/wake...            NaN    NaN   \n",
       "1038  /home/baudoin/data/UAV123/data_seq/UAV123/wake...            NaN    NaN   \n",
       "1039  /home/baudoin/data/UAV123/data_seq/UAV123/wake...            NaN    NaN   \n",
       "\n",
       "        760    475  bicycle  \n",
       "0     864.0  450.0  bicycle  \n",
       "1     441.0  368.0  bicycle  \n",
       "2     623.0  310.0  bicycle  \n",
       "3     793.0  255.0  bicycle  \n",
       "4     530.0  329.0  bicycle  \n",
       "...     ...    ...      ...  \n",
       "1035    NaN    NaN      NaN  \n",
       "1036    NaN    NaN      NaN  \n",
       "1037    NaN    NaN      NaN  \n",
       "1038    NaN    NaN      NaN  \n",
       "1039    NaN    NaN      NaN  \n",
       "\n",
       "[1040 rows x 6 columns]"
      ]
     },
     "execution_count": 5,
     "metadata": {},
     "output_type": "execute_result"
    }
   ],
   "source": []
  },
  {
   "cell_type": "code",
   "execution_count": null,
   "metadata": {},
   "outputs": [],
   "source": []
  }
 ],
 "metadata": {
  "interpreter": {
   "hash": "1c5ce1f4c9a1ce0bf8c0fe0c5b01ea903ea06a1ce01686680a10fac51ad47f3f"
  },
  "kernelspec": {
   "display_name": "Python 3.7.11 64-bit ('pytorch-retinanet-env': conda)",
   "language": "python",
   "name": "python3"
  },
  "language_info": {
   "codemirror_mode": {
    "name": "ipython",
    "version": 3
   },
   "file_extension": ".py",
   "mimetype": "text/x-python",
   "name": "python",
   "nbconvert_exporter": "python",
   "pygments_lexer": "ipython3",
   "version": "3.7.11"
  },
  "orig_nbformat": 4
 },
 "nbformat": 4,
 "nbformat_minor": 2
}
