{
 "cells": [
  {
   "cell_type": "code",
   "execution_count": 91,
   "metadata": {},
   "outputs": [],
   "source": [
    "import json\n",
    "import re\n",
    "\n",
    "# data paths of coco styled json annotations file\n",
    "data_path = '/media/baudoin/SSDUbuntu/data/UAV123'\n",
    "coco_annotations_path = '/annotations/uav123.json'\n",
    "\n",
    "# open json\n",
    "anno_file = open(data_path + coco_annotations_path, \"r\")\n",
    "anno_json = json.load(anno_file)\n",
    "anno_file.close()\n",
    "\n",
    "# Define labels _file.of UAV123 dataset\n",
    "labels = {'bike':1, 'bird':2, 'boat':3, 'building':4, 'car':5 , 'group':6, 'person':7, 'truck':8, 'uav':9, 'wakeboard':10}\n",
    "labels_cond = ''\n",
    "for label in list(labels.keys()):\n",
    "    labels_cond += label + '|' \n",
    "labels_cond = labels_cond[:-1]\n",
    "\n",
    "# Extract info of json file and write in a csv file\n",
    "with open(data_path + '/annotations/retina_anno.csv', 'a') as csv_file:\n",
    "    for anno, img in zip(anno_json['annotations'],anno_json['images']):\n",
    "        \n",
    "        if (anno['bbox'][0] == 0) and (anno['bbox'][1]==0):\n",
    "            new_coordinates = ['']*4\n",
    "            label = ''\n",
    "        else:\n",
    "            new_coordinates = [x + y for (x, y) in zip(anno['bbox'] , [0,0, anno['bbox'][0], anno['bbox'][1]])]\n",
    "            label = re.findall(labels_cond, img['file_name'])[0]\n",
    "        img_path = data_path + '/data_seq/UAV123/' + img['file_name']\n",
    "        csv_file.write(img_path + ',' + ','.join([str(i) for i in new_coordinates]) + ',' + label + '\\n')\n",
    "\n",
    "# Labels file\n",
    "with open(data_path + '/annotations/class_labels.csv', 'a') as csv_file:\n",
    "    for name, id in zip(labels.keys(), labels.values()):\n",
    "        csv_file.write(name + ',' + str(id) + '\\n')\n",
    "    \n"
   ]
  },
  {
   "cell_type": "code",
   "execution_count": null,
   "metadata": {},
   "outputs": [],
   "source": []
  }
 ],
 "metadata": {
  "interpreter": {
   "hash": "b7e5364b63908b08e10f2a517414ade88e418be15676f39f73c8720640639a67"
  },
  "kernelspec": {
   "display_name": "Python 3.6.13 64-bit ('pytorch-retinanet': conda)",
   "name": "python3"
  },
  "language_info": {
   "codemirror_mode": {
    "name": "ipython",
    "version": 3
   },
   "file_extension": ".py",
   "mimetype": "text/x-python",
   "name": "python",
   "nbconvert_exporter": "python",
   "pygments_lexer": "ipython3",
   "version": "3.6.13"
  },
  "orig_nbformat": 4
 },
 "nbformat": 4,
 "nbformat_minor": 2
}
